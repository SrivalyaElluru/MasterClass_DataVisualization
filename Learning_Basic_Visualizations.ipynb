{
 "cells": [
  {
   "cell_type": "code",
   "execution_count": null,
   "metadata": {
    "scrolled": true
   },
   "outputs": [],
   "source": [
    "import plotly.express as px \n",
    "\n",
    "#Try bar/line/scatter\n",
    "#fig is basically serialzed json of plotly.graph_objects.Figure class\n",
    "\n",
    "fig1= px.scatter(x=[\"week1\",\"week2\",\"week3\",\"week4\",\"week5\",\"week6\",\"week7\",\"week8\",\"week9\"], y=[[8,7,6,4,2,2,3,4,5]])\n",
    "\n",
    "\n",
    "#fig1 is a json \n",
    "print(fig1)\n",
    "\n",
    "#layout is the look of the graph\n",
    "#data is the information \n",
    "fig1.show()\n",
    "\n",
    "\n",
    "#can we edit this JSON?"
   ]
  },
  {
   "cell_type": "code",
   "execution_count": null,
   "metadata": {},
   "outputs": [],
   "source": [
    "fig1['layout']['xaxis']['title']={'text':\"Python Course Week Number\"}\n",
    "\n",
    "fig1['layout']['yaxis']['title']={'text':\"Comfort level\"}\n",
    "\n",
    "fig1['layout']['yaxis']['range']=[0,10]\n",
    "#How to do change for y axis now? \n",
    "fig1.show()\n",
    "\n",
    "\n",
    "#How to change the scale to of Yaxis: range - input list\n"
   ]
  },
  {
   "cell_type": "code",
   "execution_count": null,
   "metadata": {},
   "outputs": [],
   "source": [
    "#multiple lines- just make it a nested list ^^\n",
    "\n",
    "fig1= px.line(x=[\"week1\",\"week2\",\"week3\",\"week4\",\"week5\",\"week6\",\"week7\",\"week8\",\"week9\"], \n",
    "              \n",
    "              y=[[8,7,6,4,2,2,3,4,5],[7,6,5,4,4,3,3,6,8] ] , title=\"Comfort chart\")\n",
    "\n",
    "\n",
    "fig1['layout']['xaxis']['title']={'text':\"Python Course Week Number\"}\n",
    "\n",
    "fig1['layout']['yaxis']['title']={'text':\"Comfort level\"}\n",
    "\n",
    "fig1['layout']['yaxis']['range']=[0,10]\n",
    "\n",
    "fig1.show()\n",
    "\n",
    "#Notice now the JSON changed.\n",
    "print(fig1)\n",
    "\n",
    "\n",
    "#add title, title=\"Comfort chart\"\n"
   ]
  },
  {
   "cell_type": "code",
   "execution_count": null,
   "metadata": {},
   "outputs": [],
   "source": [
    "#Manual edit option is always available, but to make a developer's life easier, an external function call update_layout \n",
    "#is available. Lets try to apply the below change using this func  :D \n",
    "\n",
    "    #1.position using title_x\n",
    "    #2.Font color using  title_font_color and font_color\n",
    "    #3.Font family using title_font_family=\"Times New Roman\"\n",
    "    #4. Hide the Legend\n",
    "    \n",
    "    "
   ]
  },
  {
   "cell_type": "code",
   "execution_count": null,
   "metadata": {},
   "outputs": [],
   "source": [
    "fig1.update_layout(title_x=0.50, title_font_color='blue', font_color='blue',title_font_family=\"Times New Roman\",\n",
    "                 legend=dict(\n",
    "                                #position of legend by x and y             \n",
    "                                x=1,\n",
    "                                y=0,\n",
    "                                title_font_family=\"Times New Roman\",                       \n",
    "                                font=dict(\n",
    "                                    family=\"Courier\",\n",
    "                                    size=12,\n",
    "                                    color=\"black\"\n",
    "                                ),\n",
    "                                bgcolor=\"LightSteelBlue\",\n",
    "                                bordercolor=\"Black\",\n",
    "                                borderwidth=2,\n",
    "                                title='People'\n",
    "                            ) \n",
    "                            ,showlegend=True\n",
    "    )\n",
    "fig1.show()"
   ]
  },
  {
   "cell_type": "code",
   "execution_count": null,
   "metadata": {},
   "outputs": [],
   "source": [
    "#Each line is called a trace \n",
    "#If you hide the name of some line :) \n",
    "\n",
    "fig1.for_each_trace(\n",
    "    lambda trace: trace.update(name=\"Tilda\") if trace.name == \"wide_variable_0\" else ( trace.update(name=\"Roxanne\") ),\n",
    "    \n",
    ")\n",
    "fig1.show()"
   ]
  },
  {
   "cell_type": "code",
   "execution_count": null,
   "metadata": {},
   "outputs": [],
   "source": [
    "#Try chaning \n",
    "#Another easier way to fix line name \n",
    "\n",
    "\n",
    "fig1['data'][0]['name']=\"Got you\"\n",
    "\n",
    "#What if you want, markers on each data point\n",
    "#changing the mode from here\n",
    "fig1.data[0].update(mode='markers+lines')\n",
    "\n",
    "fig1.show()"
   ]
  },
  {
   "cell_type": "code",
   "execution_count": null,
   "metadata": {},
   "outputs": [],
   "source": [
    "\n"
   ]
  },
  {
   "cell_type": "code",
   "execution_count": null,
   "metadata": {},
   "outputs": [],
   "source": [
    "# plotly provides sample datasets, that will be under px.data\n",
    "df = px.data.tips()\n",
    "\n",
    "print(df.head())\n",
    "\n",
    "df[['total_bill','tip']].head()"
   ]
  },
  {
   "cell_type": "code",
   "execution_count": null,
   "metadata": {},
   "outputs": [],
   "source": [
    "df=df[['tip','day']]\n",
    "\n",
    "print(df)"
   ]
  },
  {
   "cell_type": "code",
   "execution_count": null,
   "metadata": {},
   "outputs": [],
   "source": [
    "#use min,max,mean,sum \n",
    "#additionally there is something like \n",
    "#as_index is important if you want to retain the column on which you are grouping on\n",
    "df=df.groupby(by='day', as_index=False).sum()\n",
    "\n",
    "print(df)"
   ]
  },
  {
   "cell_type": "code",
   "execution_count": null,
   "metadata": {},
   "outputs": [],
   "source": [
    "# Values and name attribute can take in \n",
    "# Either a name of a column in data_frame, or a pandas Series or array_like object. \n",
    "fig = px.pie(df, values='tip', names='day')\n",
    "fig.show()"
   ]
  },
  {
   "cell_type": "code",
   "execution_count": null,
   "metadata": {},
   "outputs": [],
   "source": [
    "#Another way to filter a dataframe\n",
    "#px.data.tips().query(\"smoker=='Yes'\")\n",
    "\n",
    "#Using simple arrays\n",
    "#color blue ascending order gradient , color blue_r descending order gradient\n",
    "fig = px.pie( values=[30,40,50], names=['eat','watch','sleep']\n",
    "             ,color_discrete_sequence=px.colors.sequential.Blugrn_r)\n",
    "\n",
    "\n",
    "fig.update_traces(textposition='inside', textinfo='percent+label')\n",
    "\n",
    "fig.show()\n",
    "\n",
    "\n",
    "#sleep_percentage= its value/ sum of all 50/120"
   ]
  },
  {
   "cell_type": "code",
   "execution_count": null,
   "metadata": {},
   "outputs": [],
   "source": [
    "import dash\n",
    "import dash_core_components as dcc\n",
    "import dash_html_components as html\n",
    "\n",
    "app = dash.Dash()\n",
    "\n",
    "#An understanding of html elements might be required here\n",
    "app.layout = html.Div([\n",
    "    \n",
    "    html.Div(children='''\n",
    "        Dash: A web application framework for Python.\n",
    "    '''),\n",
    "    dcc.Graph(figure=fig1),\n",
    "    dcc.Graph(figure=fig)\n",
    "     \n",
    "])\n",
    "\n",
    "app.run_server(debug=True, use_reloader=False) "
   ]
  },
  {
   "cell_type": "code",
   "execution_count": null,
   "metadata": {},
   "outputs": [],
   "source": []
  }
 ],
 "metadata": {
  "kernelspec": {
   "display_name": "Python 3",
   "language": "python",
   "name": "python3"
  },
  "language_info": {
   "codemirror_mode": {
    "name": "ipython",
    "version": 3
   },
   "file_extension": ".py",
   "mimetype": "text/x-python",
   "name": "python",
   "nbconvert_exporter": "python",
   "pygments_lexer": "ipython3",
   "version": "3.7.3"
  }
 },
 "nbformat": 4,
 "nbformat_minor": 2
}
