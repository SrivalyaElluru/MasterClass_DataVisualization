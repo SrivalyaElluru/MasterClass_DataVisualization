{
 "cells": [
  {
   "cell_type": "code",
   "execution_count": null,
   "metadata": {},
   "outputs": [],
   "source": [
    "#Pandas is a very good library often used for data manuplation and analysis\n",
    "import pandas as pd\n",
    "\n",
    "#Plot a visualization library\n",
    "import plotly.express as px \n",
    "\n",
    "#Libraries required to host your content \n",
    "import dash\n",
    "import dash_core_components as dcc\n",
    "import dash_html_components as html"
   ]
  },
  {
   "cell_type": "code",
   "execution_count": null,
   "metadata": {},
   "outputs": [],
   "source": [
    "#A csv is, data saved in tabular format\n",
    "table=pd.read_csv('StudentsPerformance.csv')"
   ]
  },
  {
   "cell_type": "code",
   "execution_count": null,
   "metadata": {},
   "outputs": [],
   "source": [
    "#To view columns the table has\n",
    "table.columns"
   ]
  },
  {
   "cell_type": "code",
   "execution_count": null,
   "metadata": {},
   "outputs": [],
   "source": [
    "#To get a short snapshot of the data, instead of printing the entire table \n",
    "# tail() the last few rows\n",
    "# head() starting few rows\n",
    "table.head()"
   ]
  },
  {
   "cell_type": "code",
   "execution_count": null,
   "metadata": {},
   "outputs": [],
   "source": [
    "#To access data column wise, dataframe_name['column_name']\n",
    "table['math score']\n",
    "\n",
    "#for multiple columns, table[['col1','col2','col3']]\n",
    "# set(table['col_name']) gives the unique elements of that column"
   ]
  },
  {
   "cell_type": "code",
   "execution_count": null,
   "metadata": {},
   "outputs": [],
   "source": []
  },
  {
   "cell_type": "code",
   "execution_count": null,
   "metadata": {},
   "outputs": [],
   "source": [
    "#lets try to see distribution of females race/ethnicity wise have performed in reading and math using a pie chart\n",
    "\n",
    "#filter based on a column's value\n",
    "table1=table.query(\"gender=='female'\")\n",
    "\n",
    "\n"
   ]
  },
  {
   "cell_type": "code",
   "execution_count": null,
   "metadata": {},
   "outputs": [],
   "source": [
    "table1.head()"
   ]
  },
  {
   "cell_type": "code",
   "execution_count": null,
   "metadata": {},
   "outputs": [],
   "source": [
    "table1=table1.groupby(by='race/ethnicity',as_index=False).mean()"
   ]
  },
  {
   "cell_type": "code",
   "execution_count": null,
   "metadata": {},
   "outputs": [],
   "source": [
    "table1"
   ]
  },
  {
   "cell_type": "code",
   "execution_count": null,
   "metadata": {},
   "outputs": [],
   "source": [
    "#px.pie() returns a plotly.graph_objects.Figure() object\n",
    "fig1 = px.pie(table1 ,values='reading score', names='race/ethnicity'\n",
    "             ,color_discrete_sequence=px.colors.sequential.Blugrn_r, title='Reading Scores')\n",
    "\n",
    "fig1.update_layout( title_x=0.30)\n",
    "#now the figure object is modified\n",
    "fig1.update_traces(textposition='inside', textinfo='percent+label')\n",
    "\n",
    "fig1.show()"
   ]
  },
  {
   "cell_type": "code",
   "execution_count": null,
   "metadata": {},
   "outputs": [],
   "source": [
    "fig2 = px.pie(table1 ,values='math score', names='race/ethnicity'\n",
    "             ,color_discrete_sequence=px.colors.sequential.Blugrn, title='Math Scores')\n",
    "\n",
    "fig2.update_layout( title_x=0.50)\n",
    "#now the figure object is modified\n",
    "fig2.update_traces(textposition='inside', textinfo='percent+label')\n",
    "\n",
    "fig2.show()"
   ]
  },
  {
   "cell_type": "code",
   "execution_count": null,
   "metadata": {},
   "outputs": [],
   "source": [
    "#points='all'/'outliers'/'False' generally default value is only outliers are shown\n",
    "# If you want to see mean also in the graph, then write boxmean=True\n",
    "\n",
    "fig3 = px.box(table, x=\"race/ethnicity\", y=\"math score\")\n",
    "fig3.for_each_trace(\n",
    "    lambda trace: trace.update(boxmean=True) \n",
    ")\n",
    "\n",
    "fig3.data[0]['marker']['color']='seagreen'\n",
    "\n",
    "fig3.show()"
   ]
  },
  {
   "cell_type": "code",
   "execution_count": null,
   "metadata": {},
   "outputs": [],
   "source": [
    "\n",
    "#Does parent's education affect a student's preparation completion of the course?\n",
    "#lets try to understand from a bar graph (y-axis count)(x-axis the category)\n",
    "fig4 = px.bar(table, x=\"parental level of education\", color=\"test preparation course\",barmode='group')\n",
    "fig4.show()\n"
   ]
  },
  {
   "cell_type": "code",
   "execution_count": null,
   "metadata": {},
   "outputs": [],
   "source": [
    "\n",
    "app = dash.Dash()\n",
    "\n",
    "#An understanding of html elements might be required here\n",
    "app.layout = html.Div([\n",
    "    \n",
    "    html.Div(children='''\n",
    "        Dash: A web application framework for Python.\n",
    "    '''),\n",
    "    dcc.Graph(figure=fig1)\n",
    "    ,\n",
    "    dcc.Graph(figure=fig2),\n",
    "    dcc.Graph(figure=fig3),\n",
    "    dcc.Graph(figure=fig4) \n",
    "])\n",
    "\n",
    "app.run_server(debug=True, use_reloader=False) "
   ]
  },
  {
   "cell_type": "code",
   "execution_count": null,
   "metadata": {},
   "outputs": [],
   "source": []
  }
 ],
 "metadata": {
  "kernelspec": {
   "display_name": "Python 3",
   "language": "python",
   "name": "python3"
  },
  "language_info": {
   "codemirror_mode": {
    "name": "ipython",
    "version": 3
   },
   "file_extension": ".py",
   "mimetype": "text/x-python",
   "name": "python",
   "nbconvert_exporter": "python",
   "pygments_lexer": "ipython3",
   "version": "3.7.3"
  }
 },
 "nbformat": 4,
 "nbformat_minor": 2
}
